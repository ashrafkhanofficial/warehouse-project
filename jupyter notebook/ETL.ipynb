{
 "cells": [
  {
   "cell_type": "code",
   "execution_count": 3,
   "id": "65a58527-78df-4f3d-a6a8-4f73138a1dcf",
   "metadata": {},
   "outputs": [],
   "source": [
    "import pandas as pd\n",
    "import numpy as np\n",
    "import sqlalchemy"
   ]
  },
  {
   "cell_type": "markdown",
   "id": "c49f601e-cf41-4117-bcc0-e8807c66451f",
   "metadata": {},
   "source": [
    "## Connect python to sql server"
   ]
  },
  {
   "cell_type": "code",
   "execution_count": 4,
   "id": "93b89f89-7e13-4d77-b338-2e3d1f534327",
   "metadata": {},
   "outputs": [],
   "source": [
    "engine = sqlalchemy.create_engine(\n",
    "    \"mssql+pyodbc://@DESKTOP-H6EN8UM/superstore?driver=ODBC+Driver+17+for+SQL+Server&trusted_connection=yes\"\n",
    ")"
   ]
  },
  {
   "cell_type": "markdown",
   "id": "0a27fc52-b22b-49e9-b29d-c228e2f9879a",
   "metadata": {},
   "source": [
    "# Extract the data from the excel file"
   ]
  },
  {
   "cell_type": "code",
   "execution_count": 9,
   "id": "3a8cabd2-bdd8-4837-a707-bd6efc218ffe",
   "metadata": {},
   "outputs": [],
   "source": [
    "df = pd.read_excel(\"cleaned superstore.xlsx\", sheet_name=\"cleaned superstore\")"
   ]
  },
  {
   "cell_type": "code",
   "execution_count": 16,
   "id": "9974916f-f61f-49b6-af32-aac8f932a4ab",
   "metadata": {},
   "outputs": [
    {
     "data": {
      "text/plain": [
       "Index(['Row ID', 'Order ID', 'Order Date', 'Ship Date', 'Ship Mode',\n",
       "       'Customer ID', 'Customer Name', 'Segment', 'Country', 'City', 'State',\n",
       "       'Postal Code', 'Region', 'Product ID', 'Category', 'Sub-Category',\n",
       "       'Product Name', 'Sales', 'Quantity', 'Discount', 'Profit'],\n",
       "      dtype='object')"
      ]
     },
     "execution_count": 16,
     "metadata": {},
     "output_type": "execute_result"
    }
   ],
   "source": [
    "df.columns"
   ]
  },
  {
   "cell_type": "markdown",
   "id": "4f4bed5b-7178-480e-b863-96ae16de875d",
   "metadata": {},
   "source": [
    "# Transform"
   ]
  },
  {
   "cell_type": "markdown",
   "id": "68f371d3-a4c7-4e2c-a90b-2e11a61f4d8f",
   "metadata": {},
   "source": [
    "## Dimension and Fact tables "
   ]
  },
  {
   "cell_type": "code",
   "execution_count": 48,
   "id": "8501adef-1187-4775-82bc-1d66dc0f8b84",
   "metadata": {},
   "outputs": [],
   "source": [
    "Dim_Orders = df[[\"Order ID\", \"Order Date\", \"Ship Date\", \"Ship Mode\",\n",
    "    \"Country\", \"City\", \"State\", \"Postal Code\", \"Region\"]].drop_duplicates()"
   ]
  },
  {
   "cell_type": "code",
   "execution_count": 50,
   "id": "bfcc804e-a52c-493f-883d-8e7078bcadf6",
   "metadata": {},
   "outputs": [],
   "source": [
    "Dim_Customer = df[[\"Customer ID\", \"Customer Name\", \"Segment\"]].drop_duplicates()"
   ]
  },
  {
   "cell_type": "code",
   "execution_count": 58,
   "id": "21095f9a-75f6-4055-b786-be4441cf6421",
   "metadata": {},
   "outputs": [],
   "source": [
    "Dim_Product = df[[\"Product ID\", \"Product Name\", \"Sub-Category\", \"Category\"]].drop_duplicates()"
   ]
  },
  {
   "cell_type": "code",
   "execution_count": 60,
   "id": "65f78a3e-a46e-4055-8966-953d247f5242",
   "metadata": {},
   "outputs": [],
   "source": [
    "Dim_Product = Dim_Product.drop_duplicates(subset=[\"Product ID\"])"
   ]
  },
  {
   "cell_type": "code",
   "execution_count": 62,
   "id": "9e072c6a-af9f-43c8-99fa-e28eefd7bb5e",
   "metadata": {},
   "outputs": [],
   "source": [
    "Fact_Sales = df[[\"Row ID\", \"Order ID\", \"Customer ID\", \"Product ID\", \"Sales\",\n",
    "                 \"Quantity\", \"Discount\", \"Profit\"]]"
   ]
  },
  {
   "cell_type": "markdown",
   "id": "019cdf18-8da0-43b0-8172-223ee1c8e7ab",
   "metadata": {},
   "source": [
    "## Rename the Columns to match column names in star schema in sql server"
   ]
  },
  {
   "cell_type": "code",
   "execution_count": 74,
   "id": "93615d8b-d44b-4a19-88c3-2cda83080048",
   "metadata": {},
   "outputs": [],
   "source": [
    "Dim_Orders = Dim_Orders.rename(columns={\"Order ID\":\"Order_ID\", \"Order Date\": \"Order_Date\",\n",
    "                                       \"Ship Date\":\"Ship_Date\", \"Ship Mode\": \"Ship_Mode\", \"Postal Code\": \"Postal_Code\"})"
   ]
  },
  {
   "cell_type": "code",
   "execution_count": 86,
   "id": "0526cef6-d604-4f8b-8b90-b553e2d50589",
   "metadata": {},
   "outputs": [],
   "source": [
    "Dim_Customer = Dim_Customer.rename(columns={\"Customer ID\":\"Customer_ID\", \"Customer Name\": \"Customer_Name\"})"
   ]
  },
  {
   "cell_type": "code",
   "execution_count": 91,
   "id": "f0f28f68-00ea-465d-a978-04854220c297",
   "metadata": {},
   "outputs": [],
   "source": [
    "Dim_Product = Dim_Product.rename(columns={\"Product ID\":\"Product_ID\",\"Product Name\":\"Product_Name\",\n",
    "                                          \"Sub-Category\":\"Sub_Category\"})"
   ]
  },
  {
   "cell_type": "code",
   "execution_count": 96,
   "id": "819f16b1-1849-4fc6-a5fc-76ff45a84759",
   "metadata": {},
   "outputs": [],
   "source": [
    "Fact_Sales = Fact_Sales.rename(columns={\"Row ID\":\"Fact_ID\", \"Order ID\":\"Order_ID\", \"Customer ID\":\"Customer_ID\",\n",
    "                          \"Product ID\":\"Product_ID\"})"
   ]
  },
  {
   "cell_type": "code",
   "execution_count": 56,
   "id": "89a145ea-a040-4d97-b4cd-8f92ba1c7508",
   "metadata": {},
   "outputs": [
    {
     "data": {
      "text/plain": [
       "1850"
      ]
     },
     "execution_count": 56,
     "metadata": {},
     "output_type": "execute_result"
    }
   ],
   "source": [
    "df[\"Product Name\"].nunique()"
   ]
  },
  {
   "cell_type": "code",
   "execution_count": 29,
   "id": "8f7f359d-e127-4905-9dfb-32c2693f2619",
   "metadata": {},
   "outputs": [
    {
     "data": {
      "text/plain": [
       "Product ID\n",
       "OFF-PA-10001970    19\n",
       "TEC-AC-10003832    18\n",
       "FUR-FU-10004270    16\n",
       "FUR-CH-10002647    15\n",
       "FUR-CH-10001146    15\n",
       "                   ..\n",
       "TEC-MA-10004552     1\n",
       "TEC-MA-10003589     1\n",
       "OFF-AP-10003099     1\n",
       "TEC-PH-10002645     1\n",
       "OFF-ST-10001627     1\n",
       "Name: count, Length: 1862, dtype: int64"
      ]
     },
     "execution_count": 29,
     "metadata": {},
     "output_type": "execute_result"
    }
   ],
   "source": [
    "df[\"Product ID\"].value_counts()"
   ]
  },
  {
   "cell_type": "code",
   "execution_count": 63,
   "id": "3ebaaeb8-7e35-4dc4-84b4-cf76f1e5bd93",
   "metadata": {},
   "outputs": [],
   "source": [
    "inspector = sqlalchemy.inspect(engine)"
   ]
  },
  {
   "cell_type": "code",
   "execution_count": 64,
   "id": "bd441a21-fc2e-42a0-bd07-99b9c848ac81",
   "metadata": {},
   "outputs": [],
   "source": [
    "tables = inspector.get_table_names()"
   ]
  },
  {
   "cell_type": "code",
   "execution_count": 65,
   "id": "0d129ca6-26f6-4a65-b657-82590a0d3e36",
   "metadata": {},
   "outputs": [
    {
     "data": {
      "text/plain": [
       "['customer', 'Orders', 'Products', 'Sales']"
      ]
     },
     "execution_count": 65,
     "metadata": {},
     "output_type": "execute_result"
    }
   ],
   "source": [
    "tables"
   ]
  },
  {
   "cell_type": "code",
   "execution_count": 84,
   "id": "d4d64f9b-d718-4bc8-80ca-0a24126494bb",
   "metadata": {},
   "outputs": [
    {
     "name": "stdout",
     "output_type": "stream",
     "text": [
      "\n",
      "Table: customer\n",
      " - Customer_ID (INTEGER)\n",
      " - Customer_Name (VARCHAR(50) COLLATE \"SQL_Latin1_General_CP1_CI_AS\")\n",
      " - Segment (VARCHAR(20) COLLATE \"SQL_Latin1_General_CP1_CI_AS\")\n",
      "\n",
      "Table: Orders\n",
      " - Order_id (INTEGER)\n",
      " - Order_Date (DATE)\n",
      " - Ship_Date (DATE)\n",
      " - Postal_code (VARCHAR(20) COLLATE \"SQL_Latin1_General_CP1_CI_AS\")\n",
      " - City (VARCHAR(20) COLLATE \"SQL_Latin1_General_CP1_CI_AS\")\n",
      " - Stat_e (VARCHAR(20) COLLATE \"SQL_Latin1_General_CP1_CI_AS\")\n",
      " - Region (VARCHAR(20) COLLATE \"SQL_Latin1_General_CP1_CI_AS\")\n",
      " - Country (VARCHAR(20) COLLATE \"SQL_Latin1_General_CP1_CI_AS\")\n",
      "\n",
      "Table: Products\n",
      " - Product_id (INTEGER)\n",
      " - Product_Name (VARCHAR(100) COLLATE \"SQL_Latin1_General_CP1_CI_AS\")\n",
      " - Sub_category (VARCHAR(50) COLLATE \"SQL_Latin1_General_CP1_CI_AS\")\n",
      " - Category (VARCHAR(50) COLLATE \"SQL_Latin1_General_CP1_CI_AS\")\n",
      "\n",
      "Table: Sales\n",
      " - Fact_ID (INTEGER)\n",
      " - Order_ID (INTEGER)\n",
      " - Customer_ID (INTEGER)\n",
      " - Product_ID (INTEGER)\n",
      " - Sales (DECIMAL(10, 2))\n",
      " - Quantity (INTEGER)\n",
      " - Discount (DECIMAL(5, 2))\n",
      " - Profit (DECIMAL(10, 2))\n"
     ]
    }
   ],
   "source": [
    "for table in tables:  \n",
    "    print(f\"\\nTable: {table}\")\n",
    "    columns = inspector.get_columns(table)\n",
    "    for col in columns:\n",
    "        print(f\" - {col['name']} ({col['type']})\")"
   ]
  },
  {
   "cell_type": "markdown",
   "id": "79086b85-6480-4bde-9c66-6b94e1dd640e",
   "metadata": {},
   "source": [
    "# Load"
   ]
  },
  {
   "cell_type": "code",
   "execution_count": 78,
   "id": "102d6a0c-aabe-43ba-b9c3-379633731df9",
   "metadata": {},
   "outputs": [
    {
     "data": {
      "text/plain": [
       "116"
      ]
     },
     "execution_count": 78,
     "metadata": {},
     "output_type": "execute_result"
    }
   ],
   "source": [
    "Dim_Orders.to_sql(\"Orders\", engine, if_exists=\"append\", index=False)"
   ]
  },
  {
   "cell_type": "code",
   "execution_count": null,
   "id": "6951020d-7800-4b55-8d38-83eb5e02a5da",
   "metadata": {},
   "outputs": [],
   "source": [
    "Dim_Customer.to_sql(\"Customer\", engine, if_exists=\"append\", index=False)"
   ]
  },
  {
   "cell_type": "code",
   "execution_count": 93,
   "id": "1424bdac-7bcf-492a-8d1c-ca38ee737652",
   "metadata": {},
   "outputs": [
    {
     "data": {
      "text/plain": [
       "290"
      ]
     },
     "execution_count": 93,
     "metadata": {},
     "output_type": "execute_result"
    }
   ],
   "source": [
    "Dim_Product.to_sql(\"Products\", engine, if_exists=\"append\", index=False)"
   ]
  },
  {
   "cell_type": "code",
   "execution_count": 97,
   "id": "9af06ce3-87c8-4bd3-a2a5-80734e1ae001",
   "metadata": {},
   "outputs": [
    {
     "data": {
      "text/plain": [
       "38"
      ]
     },
     "execution_count": 97,
     "metadata": {},
     "output_type": "execute_result"
    }
   ],
   "source": [
    "Fact_Sales.to_sql(\"Sales\", engine, if_exists=\"append\", index=False)"
   ]
  },
  {
   "cell_type": "code",
   "execution_count": null,
   "id": "f9ac4554-aada-4d57-bb92-42f9d69dab8c",
   "metadata": {},
   "outputs": [],
   "source": []
  }
 ],
 "metadata": {
  "kernelspec": {
   "display_name": "Python 3 (ipykernel)",
   "language": "python",
   "name": "python3"
  },
  "language_info": {
   "codemirror_mode": {
    "name": "ipython",
    "version": 3
   },
   "file_extension": ".py",
   "mimetype": "text/x-python",
   "name": "python",
   "nbconvert_exporter": "python",
   "pygments_lexer": "ipython3",
   "version": "3.13.5"
  }
 },
 "nbformat": 4,
 "nbformat_minor": 5
}
